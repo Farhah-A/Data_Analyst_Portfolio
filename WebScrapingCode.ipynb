{
 "cells": [
  {
   "cell_type": "markdown",
   "metadata": {},
   "source": [
    "Web Scraping from Financial Times Websites"
   ]
  },
  {
   "cell_type": "code",
   "execution_count": 12,
   "metadata": {},
   "outputs": [],
   "source": [
    "#Import Libraries for Web Scraping\n",
    "import requests\n",
    "import pandas as pd\n",
    "from bs4 import BeautifulSoup\n",
    "from datetime import timedelta, date, datetime"
   ]
  },
  {
   "cell_type": "code",
   "execution_count": 13,
   "metadata": {},
   "outputs": [],
   "source": [
    "#Get data from current time in format (2023-10-30 213030)\n",
    "current_time = datetime.now()\n",
    "format_date_time = current_time.strftime(\"%Y-%m-%d %H%M%S\")"
   ]
  },
  {
   "cell_type": "code",
   "execution_count": 14,
   "metadata": {},
   "outputs": [],
   "source": [
    "#Scrape from URL \n",
    "url_to_scrape = 'https://markets.ft.com/data/equities/tearsheet/profile?s=KNM:KLS'\n",
    "\n",
    "#to keep information by using request library\n",
    "s_request = requests.session()\n",
    "\n",
    "#GET request to the URL to send back the content of the web page \n",
    "soup_content = s_request.get(url_to_scrape)"
   ]
  },
  {
   "cell_type": "code",
   "execution_count": 15,
   "metadata": {},
   "outputs": [],
   "source": [
    "#he parser used to parse the HTML content to soup_content in structured content\n",
    "soup_content = BeautifulSoup(soup_content.content, 'html.parser')"
   ]
  },
  {
   "cell_type": "code",
   "execution_count": 6,
   "metadata": {},
   "outputs": [],
   "source": [
    "#save parsed HTML\n",
    "with open (format_date_time+\".html\" , \"w\", encoding='utf-8') as files_f:\n",
    "    files_f.write(str(soup_content))\n",
    "    files_f.close()"
   ]
  },
  {
   "cell_type": "code",
   "execution_count": 16,
   "metadata": {},
   "outputs": [],
   "source": [
    "#find table element within HTML content (soup_content)\n",
    "#\"table\" - search for table element \n",
    "table = soup_content.find(\"table\", attrs={\"class\":\"mod-ui-table mod-ui-table--freeze-pane\"} )\n"
   ]
  },
  {
   "cell_type": "code",
   "execution_count": 17,
   "metadata": {},
   "outputs": [],
   "source": [
    "#collect headers of table that often siplaying titles for column\n",
    "header = table.find_all('th')"
   ]
  },
  {
   "cell_type": "code",
   "execution_count": 18,
   "metadata": {},
   "outputs": [
    {
     "data": {
      "text/plain": [
       "[<th class=\"mod-ui-table__header--text\">Company</th>,\n",
       " <th data-mod-view-category=\"keyinformation\">Revenue (TTM)</th>,\n",
       " <th data-mod-view-category=\"keyinformation\">Net income (TTM)</th>,\n",
       " <th data-mod-view-category=\"keyinformation\">Market cap</th>,\n",
       " <th data-mod-view-category=\"keyinformation\">Employees</th>,\n",
       " <th data-mod-view-category=\"stockperformance\">Price/earnings (TTM)</th>,\n",
       " <th data-mod-view-category=\"stockperformance\">Price/book value (MRQ)</th>,\n",
       " <th data-mod-view-category=\"stockperformance\">Price/cash flow (TTM)</th>,\n",
       " <th data-mod-view-category=\"stockperformance\">Price/sales (TTM)</th>,\n",
       " <th data-mod-view-category=\"persharedata\">EPS (excl. extraordinary items, TTM)</th>,\n",
       " <th data-mod-view-category=\"persharedata\">EPS (incl. extraordinary items, TTM)</th>,\n",
       " <th data-mod-view-category=\"persharedata\">Revenue per share (TTM)</th>,\n",
       " <th data-mod-view-category=\"persharedata\">Book value per share (MRQ)</th>,\n",
       " <th data-mod-view-category=\"efficiency\">Asset turnover (TTM)</th>,\n",
       " <th data-mod-view-category=\"efficiency\">Inventory turnover (TTM)</th>,\n",
       " <th data-mod-view-category=\"efficiency\">Receivables turnover (TTM)</th>,\n",
       " <th data-mod-view-category=\"efficiency\">Revenues per employee (TTM)</th>,\n",
       " <th data-mod-view-category=\"managementeffectiveness\">Return on avg assets (TTM)</th>,\n",
       " <th data-mod-view-category=\"managementeffectiveness\">Return on avg assets (5 yr avg)</th>,\n",
       " <th data-mod-view-category=\"managementeffectiveness\">Return on investment (TTM)</th>,\n",
       " <th data-mod-view-category=\"managementeffectiveness\">Return on investment (5 yr avg)</th>,\n",
       " <th data-mod-view-category=\"profitability\">Gross margin (TTM)</th>,\n",
       " <th data-mod-view-category=\"profitability\">Gross margin<br/>(5 yr avg)</th>,\n",
       " <th data-mod-view-category=\"profitability\">Net profit margin (TTM)</th>,\n",
       " <th data-mod-view-category=\"profitability\">Net Profit margin<br/>(5 yr avg)</th>,\n",
       " <th data-mod-view-category=\"financialstrength\">Quick ratio (MRQ)</th>,\n",
       " <th data-mod-view-category=\"financialstrength\">Interest coverage (TTM)</th>,\n",
       " <th data-mod-view-category=\"financialstrength\">Total debt to capital (MRQ)</th>,\n",
       " <th data-mod-view-category=\"financialstrength\">Payout ratio<br/>(5 yr avg)</th>,\n",
       " <th data-mod-view-category=\"growthrates\">Revenue<br/>(YOY change %)</th>,\n",
       " <th data-mod-view-category=\"growthrates\">Revenue<br/>(5 yr growth rate)</th>,\n",
       " <th data-mod-view-category=\"growthrates\">Net income<br/>(YOY change %)</th>,\n",
       " <th data-mod-view-category=\"growthrates\">Net income<br/>(5 yr growth rate)</th>,\n",
       " <th data-mod-view-category=\"growthrates\">Capital expenditure<br/>(5 yr growth rate)</th>,\n",
       " <th data-mod-view-category=\"growthrates\">Dividend<br/>(5 yr growth rate)</th>]"
      ]
     },
     "execution_count": 18,
     "metadata": {},
     "output_type": "execute_result"
    }
   ],
   "source": [
    "#Display headers of table\n",
    "header\n"
   ]
  },
  {
   "cell_type": "code",
   "execution_count": 19,
   "metadata": {},
   "outputs": [],
   "source": [
    "#define function get_header to list down HTML table header\n",
    "def get_header(tr):\n",
    "    #empty list to store extracted text from the header cells\n",
    "    table_headers = []\n",
    "    #starts a loop that iterates through each table header element in the list 'tr'\n",
    "    #each header element is temporarily assigned to the variable 'tx'\n",
    "    for tx in tr:\n",
    "        #extract table headers element in a list\n",
    "        table_headers.append(tx.get_text())\n",
    "\n",
    "    return table_headers\n",
    "\n",
    "all_headerow = get_header(header)"
   ]
  },
  {
   "cell_type": "code",
   "execution_count": 22,
   "metadata": {},
   "outputs": [
    {
     "data": {
      "text/plain": [
       "['Company',\n",
       " 'Revenue (TTM)',\n",
       " 'Net income (TTM)',\n",
       " 'Market cap',\n",
       " 'Employees',\n",
       " 'Price/earnings (TTM)',\n",
       " 'Price/book value (MRQ)',\n",
       " 'Price/cash flow (TTM)',\n",
       " 'Price/sales (TTM)',\n",
       " 'EPS (excl. extraordinary items, TTM)',\n",
       " 'EPS (incl. extraordinary items, TTM)',\n",
       " 'Revenue per share (TTM)',\n",
       " 'Book value per share (MRQ)',\n",
       " 'Asset turnover (TTM)',\n",
       " 'Inventory turnover (TTM)',\n",
       " 'Receivables turnover (TTM)',\n",
       " 'Revenues per employee (TTM)',\n",
       " 'Return on avg assets (TTM)',\n",
       " 'Return on avg assets (5 yr avg)',\n",
       " 'Return on investment (TTM)',\n",
       " 'Return on investment (5 yr avg)',\n",
       " 'Gross margin (TTM)',\n",
       " 'Gross margin(5 yr avg)',\n",
       " 'Net profit margin (TTM)',\n",
       " 'Net Profit margin(5 yr avg)',\n",
       " 'Quick ratio (MRQ)',\n",
       " 'Interest coverage (TTM)',\n",
       " 'Total debt to capital (MRQ)',\n",
       " 'Payout ratio(5 yr avg)',\n",
       " 'Revenue(YOY change %)',\n",
       " 'Revenue(5 yr growth rate)',\n",
       " 'Net income(YOY change %)',\n",
       " 'Net income(5 yr growth rate)',\n",
       " 'Capital expenditure(5 yr growth rate)',\n",
       " 'Dividend(5 yr growth rate)']"
      ]
     },
     "execution_count": 22,
     "metadata": {},
     "output_type": "execute_result"
    }
   ],
   "source": [
    "all_headerow"
   ]
  },
  {
   "cell_type": "code",
   "execution_count": 24,
   "metadata": {},
   "outputs": [],
   "source": [
    "#get all data in rows table \n",
    "all_tr_in_table = table.find_all('tr')\n",
    "# print(all_tr_in_table)\n",
    "def get_row(tr):\n",
    "    row = []\n",
    "    for tx in tr:\n",
    "        table_headers = []\n",
    "        _data = tx.find_all('td')\n",
    "        for _xx in _data:\n",
    "            table_headers.append(_xx.get_text())\n",
    "\n",
    "        row.append(table_headers)\n",
    "    return row\n",
    "\n",
    "#sent argument to get_row funtion\n",
    "data = get_row(all_tr_in_table)"
   ]
  },
  {
   "cell_type": "code",
   "execution_count": 27,
   "metadata": {},
   "outputs": [
    {
     "name": "stdout",
     "output_type": "stream",
     "text": [
      "                                     Company Revenue (TTM) Net income (TTM)  \\\n",
      "0                      Carimin Petroleum Bhd       254.74m           23.11m   \n",
      "1                                Uzma Berhad       474.02m           38.99m   \n",
      "2                          Icon Offshore Bhd       236.06m          158.82m   \n",
      "3                              T7 Global Bhd       446.10m           25.65m   \n",
      "4                                 Deleum Bhd       780.48m           44.43m   \n",
      "5                      Perdana Petroleum Bhd       235.90m           32.32m   \n",
      "6                           KNM Group Berhad       585.50m         -201.09m   \n",
      "7                                  Wasco Bhd        2.81bn           17.09m   \n",
      "8                          Sapura Energy Bhd        4.59bn          -3.06bn   \n",
      "9   Malaysia Marine and Heavy Engg Hldgs Bhd        2.39bn         -342.08m   \n",
      "10                        Velesto Energy Bhd       983.42m           20.59m   \n",
      "11         Dayang Enterprise Holdings Berhad       978.79m          114.16m   \n",
      "12                           Bumi Armada Bhd        2.24bn          680.18m   \n",
      "\n",
      "   Market cap Employees Price/earnings (TTM) Price/book value (MRQ)  \\\n",
      "0     199.97m        --                 8.76                   1.04   \n",
      "1     290.42m    748.00                 6.77                 0.4891   \n",
      "2     324.78m    537.00                 1.96                 0.8493   \n",
      "3     345.37m    442.00                13.50                   1.12   \n",
      "4     399.55m    592.00                 9.40                   1.06   \n",
      "5     532.83m    937.00                17.63                 0.8757   \n",
      "6     687.80m    834.00                   --                 0.6777   \n",
      "7     724.52m     3.87k                43.03                   1.18   \n",
      "8     798.95m     2.44k                   --                     --   \n",
      "9     840.00m     3.37k                   --                 0.6557   \n",
      "10     2.01bn    722.00               103.59                 0.8942   \n",
      "11     2.12bn     2.16k                18.76                   1.42   \n",
      "12     3.17bn    879.00                 4.70                 0.5513   \n",
      "\n",
      "   Price/cash flow (TTM) Price/sales (TTM)  \\\n",
      "0                   6.71            0.7942   \n",
      "1                   3.16            0.6127   \n",
      "2                   1.42              1.32   \n",
      "3                     --            0.7827   \n",
      "4                   4.63            0.5351   \n",
      "5                   6.21              2.35   \n",
      "6                     --              1.00   \n",
      "7                   6.27            0.2622   \n",
      "8                     --            0.1916   \n",
      "9                     --            0.3655   \n",
      "10                 10.27              2.17   \n",
      "11                  9.24              2.19   \n",
      "12                  3.22              1.43   \n",
      "\n",
      "   EPS (excl. extraordinary items, TTM)  ... Quick ratio (MRQ)  \\\n",
      "0                                0.0988  ...                --   \n",
      "1                                0.1108  ...              1.05   \n",
      "2                                0.0587  ...              2.33   \n",
      "3                                0.0341  ...            0.4209   \n",
      "4                                0.1106  ...              2.54   \n",
      "5                                0.0142  ...              1.60   \n",
      "6                                -0.056  ...            0.6061   \n",
      "7                                0.0221  ...            0.8222   \n",
      "8                               -0.1914  ...            0.1578   \n",
      "9                               -0.2138  ...            0.9061   \n",
      "10                               0.0025  ...            0.9858   \n",
      "11                               0.0986  ...              2.51   \n",
      "12                                0.115  ...                --   \n",
      "\n",
      "   Interest coverage (TTM) Total debt to capital (MRQ) Payout ratio(5 yr avg)  \\\n",
      "0                    10.36                      0.0315                  20.15   \n",
      "1                     3.78                      0.4207                     --   \n",
      "2                     9.14                       0.408                     --   \n",
      "3                     5.03                      0.7128                   4.60   \n",
      "4                       --                      0.0066                  46.99   \n",
      "5                     4.55                      0.0546                     --   \n",
      "6                  -0.7927                      0.6183                     --   \n",
      "7                     2.37                      0.5797                     --   \n",
      "8                   0.3255                        1.38                     --   \n",
      "9                   -25.57                       0.195                     --   \n",
      "10                    2.12                      0.1804                     --   \n",
      "11                    4.89                      0.1798                  13.78   \n",
      "12                    3.28                      0.4597                     --   \n",
      "\n",
      "   Revenue(YOY change %) Revenue(5 yr growth rate) Net income(YOY change %)  \\\n",
      "0                  11.85                     12.51                   253.11   \n",
      "1                  25.42                        --                   672.78   \n",
      "2                  -5.69                      6.74                   644.25   \n",
      "3                  18.81                     12.16                    92.75   \n",
      "4                  25.02                      5.50                   120.50   \n",
      "5                  28.12                      5.88                   103.47   \n",
      "6                     --                        --                       --   \n",
      "7                  87.96                      1.51                    94.14   \n",
      "8                  11.00                     -2.06                    65.11   \n",
      "9                  12.56                     11.55                   125.06   \n",
      "10                 53.86                   -0.1985                   -10.55   \n",
      "11                 47.39                      7.21                   138.28   \n",
      "12                 11.23                    0.0284                    11.10   \n",
      "\n",
      "   Net income(5 yr growth rate) Capital expenditure(5 yr growth rate)  \\\n",
      "0                            --                                 99.36   \n",
      "1                            --                                    --   \n",
      "2                            --                                 -3.09   \n",
      "3                         60.97                                 78.00   \n",
      "4                          5.34                                 26.62   \n",
      "5                            --                                 36.30   \n",
      "6                            --                                    --   \n",
      "7                            --                                -40.17   \n",
      "8                            --                                -28.98   \n",
      "9                         14.64                                 -7.61   \n",
      "10                           --                                 53.71   \n",
      "11                           --                                 14.08   \n",
      "12                        15.77                                -75.87   \n",
      "\n",
      "   Dividend(5 yr growth rate)  \n",
      "0                          --  \n",
      "1                          --  \n",
      "2                          --  \n",
      "3                          --  \n",
      "4                        4.32  \n",
      "5                          --  \n",
      "6                          --  \n",
      "7                          --  \n",
      "8                          --  \n",
      "9                      -12.94  \n",
      "10                         --  \n",
      "11                         --  \n",
      "12                         --  \n",
      "\n",
      "[13 rows x 35 columns]\n"
     ]
    }
   ],
   "source": [
    "# pd.set_option('expand_frame_repr', False) # gunakan ini untuk print DataFrame dalam satu barisan\n",
    "df_table = pd.DataFrame(data)\n",
    "df_table.columns = all_headerow\n",
    "print(df_table)\n",
    "df_table.to_csv(\"WebSraping.csv\")"
   ]
  },
  {
   "cell_type": "code",
   "execution_count": null,
   "metadata": {},
   "outputs": [],
   "source": []
  }
 ],
 "metadata": {
  "kernelspec": {
   "display_name": "base",
   "language": "python",
   "name": "python3"
  },
  "language_info": {
   "codemirror_mode": {
    "name": "ipython",
    "version": 3
   },
   "file_extension": ".py",
   "mimetype": "text/x-python",
   "name": "python",
   "nbconvert_exporter": "python",
   "pygments_lexer": "ipython3",
   "version": "3.8.8"
  }
 },
 "nbformat": 4,
 "nbformat_minor": 2
}
